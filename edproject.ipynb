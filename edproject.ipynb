{
 "cells": [
  {
   "cell_type": "markdown",
   "id": "65660a8e",
   "metadata": {},
   "source": [
    "## Emergency Department Surveilance Analysis Report ##"
   ]
  },
  {
   "cell_type": "code",
   "execution_count": 105,
   "id": "ebddc9f0",
   "metadata": {},
   "outputs": [],
   "source": [
    "#import the packages that will be used for this project\n",
    "import pandas as pd\n",
    "import numpy as np\n",
    "import matplotlib.pyplot as plt\n",
    "import seaborn as sns\n",
    "from datetime import datetime, date"
   ]
  },
  {
   "cell_type": "code",
   "execution_count": 106,
   "id": "18808283",
   "metadata": {
    "scrolled": true
   },
   "outputs": [
    {
     "data": {
      "text/html": [
       "<div>\n",
       "<style scoped>\n",
       "    .dataframe tbody tr th:only-of-type {\n",
       "        vertical-align: middle;\n",
       "    }\n",
       "\n",
       "    .dataframe tbody tr th {\n",
       "        vertical-align: top;\n",
       "    }\n",
       "\n",
       "    .dataframe thead th {\n",
       "        text-align: right;\n",
       "    }\n",
       "</style>\n",
       "<table border=\"1\" class=\"dataframe\">\n",
       "  <thead>\n",
       "    <tr style=\"text-align: right;\">\n",
       "      <th></th>\n",
       "      <th>Chart</th>\n",
       "      <th>Unnamed: 1</th>\n",
       "      <th>Gender</th>\n",
       "      <th>Unnamed: 3</th>\n",
       "      <th>DoB</th>\n",
       "      <th>Age</th>\n",
       "      <th>Insurance</th>\n",
       "      <th>Unnamed: 7</th>\n",
       "      <th>Day</th>\n",
       "      <th>Arrived DateTime</th>\n",
       "      <th>...</th>\n",
       "      <th>LOS (hh:mm)</th>\n",
       "      <th>LOS (minutes)</th>\n",
       "      <th>Unnamed: 39</th>\n",
       "      <th>ExitDiagnosis</th>\n",
       "      <th>Unnamed: 41</th>\n",
       "      <th>Admitted Date Time</th>\n",
       "      <th>Unnamed: 43</th>\n",
       "      <th>AdmittedTo</th>\n",
       "      <th>Unnamed: 45</th>\n",
       "      <th>PatientGroup</th>\n",
       "    </tr>\n",
       "  </thead>\n",
       "  <tbody>\n",
       "    <tr>\n",
       "      <th>0</th>\n",
       "      <td>NaN</td>\n",
       "      <td>NaN</td>\n",
       "      <td>NaN</td>\n",
       "      <td>NaN</td>\n",
       "      <td>NaN</td>\n",
       "      <td>NaN</td>\n",
       "      <td>NaN</td>\n",
       "      <td>NaN</td>\n",
       "      <td>NaN</td>\n",
       "      <td>NaN</td>\n",
       "      <td>...</td>\n",
       "      <td>NaN</td>\n",
       "      <td>NaN</td>\n",
       "      <td>NaN</td>\n",
       "      <td>NaN</td>\n",
       "      <td>NaN</td>\n",
       "      <td>NaN</td>\n",
       "      <td>NaN</td>\n",
       "      <td>NaN</td>\n",
       "      <td>NaN</td>\n",
       "      <td>NaN</td>\n",
       "    </tr>\n",
       "    <tr>\n",
       "      <th>1</th>\n",
       "      <td>31487.0</td>\n",
       "      <td>NaN</td>\n",
       "      <td>Female</td>\n",
       "      <td>NaN</td>\n",
       "      <td>18/03/1952</td>\n",
       "      <td>69.0</td>\n",
       "      <td>None</td>\n",
       "      <td>NaN</td>\n",
       "      <td>Mon</td>\n",
       "      <td>23/08/2021  00:00</td>\n",
       "      <td>...</td>\n",
       "      <td>12:55</td>\n",
       "      <td>775.0</td>\n",
       "      <td>NaN</td>\n",
       "      <td>No Exit Diagnosis</td>\n",
       "      <td>NaN</td>\n",
       "      <td>23/08/2021  12:55</td>\n",
       "      <td>NaN</td>\n",
       "      <td>Pre Discharge Unit</td>\n",
       "      <td>NaN</td>\n",
       "      <td>Vomiting</td>\n",
       "    </tr>\n",
       "    <tr>\n",
       "      <th>2</th>\n",
       "      <td>84548.0</td>\n",
       "      <td>NaN</td>\n",
       "      <td>Female</td>\n",
       "      <td>NaN</td>\n",
       "      <td>25/09/1996</td>\n",
       "      <td>24.0</td>\n",
       "      <td>NaN</td>\n",
       "      <td>NaN</td>\n",
       "      <td>Mon</td>\n",
       "      <td>23/08/2021  01:29</td>\n",
       "      <td>...</td>\n",
       "      <td>05:01</td>\n",
       "      <td>301.0</td>\n",
       "      <td>NaN</td>\n",
       "      <td>No Exit Diagnosis</td>\n",
       "      <td>NaN</td>\n",
       "      <td>NaN</td>\n",
       "      <td>NaN</td>\n",
       "      <td>NaN</td>\n",
       "      <td>NaN</td>\n",
       "      <td>Swelling</td>\n",
       "    </tr>\n",
       "    <tr>\n",
       "      <th>3</th>\n",
       "      <td>234873.0</td>\n",
       "      <td>NaN</td>\n",
       "      <td>Female</td>\n",
       "      <td>NaN</td>\n",
       "      <td>10/06/1998</td>\n",
       "      <td>23.0</td>\n",
       "      <td>Irish Life</td>\n",
       "      <td>NaN</td>\n",
       "      <td>Mon</td>\n",
       "      <td>23/08/2021  01:40</td>\n",
       "      <td>...</td>\n",
       "      <td>04:20</td>\n",
       "      <td>260.0</td>\n",
       "      <td>NaN</td>\n",
       "      <td>No Exit Diagnosis</td>\n",
       "      <td>NaN</td>\n",
       "      <td>NaN</td>\n",
       "      <td>NaN</td>\n",
       "      <td>NaN</td>\n",
       "      <td>NaN</td>\n",
       "      <td>Query Coronavirus</td>\n",
       "    </tr>\n",
       "    <tr>\n",
       "      <th>4</th>\n",
       "      <td>49040.0</td>\n",
       "      <td>NaN</td>\n",
       "      <td>Female</td>\n",
       "      <td>NaN</td>\n",
       "      <td>31/01/1972</td>\n",
       "      <td>49.0</td>\n",
       "      <td>NaN</td>\n",
       "      <td>NaN</td>\n",
       "      <td>Mon</td>\n",
       "      <td>23/08/2021  02:26</td>\n",
       "      <td>...</td>\n",
       "      <td>00:49</td>\n",
       "      <td>49.0</td>\n",
       "      <td>NaN</td>\n",
       "      <td>No Exit Diagnosis</td>\n",
       "      <td>NaN</td>\n",
       "      <td>NaN</td>\n",
       "      <td>NaN</td>\n",
       "      <td>NaN</td>\n",
       "      <td>NaN</td>\n",
       "      <td>Assault</td>\n",
       "    </tr>\n",
       "  </tbody>\n",
       "</table>\n",
       "<p>5 rows × 47 columns</p>\n",
       "</div>"
      ],
      "text/plain": [
       "      Chart  Unnamed: 1  Gender  Unnamed: 3         DoB   Age   Insurance  \\\n",
       "0       NaN         NaN     NaN         NaN         NaN   NaN         NaN   \n",
       "1   31487.0         NaN  Female         NaN  18/03/1952  69.0        None   \n",
       "2   84548.0         NaN  Female         NaN  25/09/1996  24.0         NaN   \n",
       "3  234873.0         NaN  Female         NaN  10/06/1998  23.0  Irish Life   \n",
       "4   49040.0         NaN  Female         NaN  31/01/1972  49.0         NaN   \n",
       "\n",
       "   Unnamed: 7  Day    Arrived DateTime  ...  LOS (hh:mm) LOS (minutes)  \\\n",
       "0         NaN  NaN                 NaN  ...          NaN           NaN   \n",
       "1         NaN  Mon  23/08/2021  00:00   ...        12:55         775.0   \n",
       "2         NaN  Mon  23/08/2021  01:29   ...        05:01         301.0   \n",
       "3         NaN  Mon  23/08/2021  01:40   ...        04:20         260.0   \n",
       "4         NaN  Mon  23/08/2021  02:26   ...        00:49          49.0   \n",
       "\n",
       "  Unnamed: 39      ExitDiagnosis  Unnamed: 41  Admitted Date Time  \\\n",
       "0         NaN                NaN          NaN                 NaN   \n",
       "1         NaN  No Exit Diagnosis          NaN  23/08/2021  12:55    \n",
       "2         NaN  No Exit Diagnosis          NaN                 NaN   \n",
       "3         NaN  No Exit Diagnosis          NaN                 NaN   \n",
       "4         NaN  No Exit Diagnosis          NaN                 NaN   \n",
       "\n",
       "   Unnamed: 43          AdmittedTo  Unnamed: 45       PatientGroup  \n",
       "0          NaN                 NaN          NaN                NaN  \n",
       "1          NaN  Pre Discharge Unit          NaN           Vomiting  \n",
       "2          NaN                 NaN          NaN           Swelling  \n",
       "3          NaN                 NaN          NaN  Query Coronavirus  \n",
       "4          NaN                 NaN          NaN            Assault  \n",
       "\n",
       "[5 rows x 47 columns]"
      ]
     },
     "metadata": {},
     "output_type": "display_data"
    }
   ],
   "source": [
    "#import csv file into pandas dataframe\n",
    "ED = pd.read_csv(r'C:\\Users\\lost4daze\\Documents\\UCD\\Python Scripts\\sampledata1.csv')\n",
    "display(ED.head())"
   ]
  },
  {
   "cell_type": "code",
   "execution_count": 81,
   "id": "888df5be",
   "metadata": {
    "scrolled": false
   },
   "outputs": [
    {
     "name": "stdout",
     "output_type": "stream",
     "text": [
      "Chart                       9\n",
      "Gender                      9\n",
      "DoB                         9\n",
      "Age                         9\n",
      "Insurance                  76\n",
      "Day                         9\n",
      "Arrived DateTime            9\n",
      "Previous AE Attendance    143\n",
      "Attendance Type             9\n",
      "Transport                   9\n",
      "Referral Source             9\n",
      "PresentedWith              11\n",
      "Referred To                 9\n",
      "Triage DateTime            11\n",
      "Arrival to Triage Time      9\n",
      "Triage                     11\n",
      "Triage End DateTime        11\n",
      "Seen DateTime             121\n",
      "Arrival to Seen Time      121\n",
      "Lodged DateTime           574\n",
      "Outcome                     9\n",
      "ED Depart DateTime         10\n",
      "LOS (hh:mm)                 9\n",
      "LOS (minutes)               9\n",
      "ExitDiagnosis              36\n",
      "Admitted Date Time        506\n",
      "AdmittedTo                506\n",
      "PatientGroup                9\n",
      "dtype: int64\n",
      "(677, 27)\n"
     ]
    }
   ],
   "source": [
    "ED.dropna(how = 'all', axis = 1, inplace = True) # remove blank columns\n",
    "print(ED.isna().sum()) # checking missing values in the set\n",
    "ED.dropna(how = 'all', inplace = True) # remove blank rows\n",
    "ED.drop('ExitDiagnosis', axis = 1, inplace = True) # Dropping column with no useful data.\n",
    "print(ED.shape) # checking shape of set"
   ]
  },
  {
   "cell_type": "code",
   "execution_count": 91,
   "id": "d7c1898c",
   "metadata": {},
   "outputs": [
    {
     "name": "stdout",
     "output_type": "stream",
     "text": [
      "      Chart  Gender         DoB   Age   Insurance  Day    Arrived DateTime  \\\n",
      "1   31487.0  Female  18/03/1952  69.0        None  Mon 2021-08-23 00:00:00   \n",
      "2   84548.0  Female  25/09/1996  24.0        None  Mon 2021-08-23 01:29:00   \n",
      "3  234873.0  Female  10/06/1998  23.0  Irish Life  Mon 2021-08-23 01:40:00   \n",
      "4   49040.0  Female  31/01/1972  49.0        None  Mon 2021-08-23 02:26:00   \n",
      "5   64593.0    Male  17/09/2002  18.0        None  Mon 2021-08-23 03:59:00   \n",
      "\n",
      "  Previous AE Attendance Attendance Type            Transport  ...  \\\n",
      "1     02/06/2021  12:28   New Attendance            Ambulance  ...   \n",
      "2                    NaN  New Attendance          Private Own  ...   \n",
      "3                    NaN  New Attendance  Private Accompanied  ...   \n",
      "4     09/11/2013  16:27   New Attendance            Ambulance  ...   \n",
      "5     17/11/2020  11:01   New Attendance  Private Accompanied  ...   \n",
      "\n",
      "        Seen DateTime Arrival to Seen Time Lodged DateTime          Outcome  \\\n",
      "1 2021-08-23 01:52:00                01:52             NaT    Admit to Ward   \n",
      "2 2021-08-23 04:00:00                02:31             NaT  Discharged Home   \n",
      "3 2021-08-23 03:00:00                01:20             NaT  Discharged Home   \n",
      "4                 NaT                  NaN             NaT     Did Not Wait   \n",
      "5 2021-08-23 04:50:00                00:51             NaT  Discharged Home   \n",
      "\n",
      "   ED Depart DateTime LOS (hh:mm) LOS (minutes)  Admitted Date Time  \\\n",
      "1 2021-08-23 12:55:00       12:55         775.0 2021-08-23 12:55:00   \n",
      "2 2021-08-23 06:30:00       05:01         301.0                 NaT   \n",
      "3 2021-08-23 06:00:00       04:20         260.0                 NaT   \n",
      "4 2021-08-23 03:15:00       00:49          49.0                 NaT   \n",
      "5 2021-08-23 07:41:00       03:42         222.0                 NaT   \n",
      "\n",
      "           AdmittedTo       PatientGroup  \n",
      "1  Pre Discharge Unit           Vomiting  \n",
      "2                 NaN           Swelling  \n",
      "3                 NaN  Query Coronavirus  \n",
      "4                 NaN            Assault  \n",
      "5                 NaN  Query Coronavirus  \n",
      "\n",
      "[5 rows x 27 columns]\n"
     ]
    }
   ],
   "source": [
    "# replacing nan values \n",
    "print(ED.head())\n",
    "ED['Insurance'].fillna( 'None', inplace = True)"
   ]
  },
  {
   "cell_type": "code",
   "execution_count": 82,
   "id": "b2622b37",
   "metadata": {},
   "outputs": [
    {
     "data": {
      "text/plain": [
       "Chart                     float64\n",
       "Gender                     object\n",
       "DoB                        object\n",
       "Age                       float64\n",
       "Insurance                  object\n",
       "Day                        object\n",
       "Arrived DateTime           object\n",
       "Previous AE Attendance     object\n",
       "Attendance Type            object\n",
       "Transport                  object\n",
       "Referral Source            object\n",
       "PresentedWith              object\n",
       "Referred To                object\n",
       "Triage DateTime            object\n",
       "Arrival to Triage Time     object\n",
       "Triage                     object\n",
       "Triage End DateTime        object\n",
       "Seen DateTime              object\n",
       "Arrival to Seen Time       object\n",
       "Lodged DateTime            object\n",
       "Outcome                    object\n",
       "ED Depart DateTime         object\n",
       "LOS (hh:mm)                object\n",
       "LOS (minutes)             float64\n",
       "Admitted Date Time         object\n",
       "AdmittedTo                 object\n",
       "PatientGroup               object\n",
       "dtype: object"
      ]
     },
     "execution_count": 82,
     "metadata": {},
     "output_type": "execute_result"
    }
   ],
   "source": [
    "ED.dtypes"
   ]
  },
  {
   "cell_type": "code",
   "execution_count": 83,
   "id": "881c3920",
   "metadata": {},
   "outputs": [
    {
     "data": {
      "text/plain": [
       "Chart                            float64\n",
       "Gender                            object\n",
       "DoB                               object\n",
       "Age                              float64\n",
       "Insurance                         object\n",
       "Day                               object\n",
       "Arrived DateTime          datetime64[ns]\n",
       "Previous AE Attendance            object\n",
       "Attendance Type                   object\n",
       "Transport                         object\n",
       "Referral Source                   object\n",
       "PresentedWith                     object\n",
       "Referred To                       object\n",
       "Triage DateTime           datetime64[ns]\n",
       "Arrival to Triage Time            object\n",
       "Triage                            object\n",
       "Triage End DateTime               object\n",
       "Seen DateTime             datetime64[ns]\n",
       "Arrival to Seen Time              object\n",
       "Lodged DateTime           datetime64[ns]\n",
       "Outcome                           object\n",
       "ED Depart DateTime        datetime64[ns]\n",
       "LOS (hh:mm)                       object\n",
       "LOS (minutes)                    float64\n",
       "Admitted Date Time        datetime64[ns]\n",
       "AdmittedTo                        object\n",
       "PatientGroup                      object\n",
       "dtype: object"
      ]
     },
     "execution_count": 83,
     "metadata": {},
     "output_type": "execute_result"
    }
   ],
   "source": [
    "#Converting date columns from object to datetime format.\n",
    "ED[['Arrived DateTime','Triage DateTime','Seen DateTime']] = ED[['Arrived DateTime','Triage DateTime','Seen DateTime']].apply(pd.to_datetime)\n",
    "ED[['Admitted Date Time','ED Depart DateTime','Lodged DateTime']]=ED[['Admitted Date Time','ED Depart DateTime','Lodged DateTime']].apply(pd.to_datetime)\n",
    "ED.dtypes"
   ]
  },
  {
   "cell_type": "code",
   "execution_count": 95,
   "id": "d5ddc3b9",
   "metadata": {},
   "outputs": [
    {
     "name": "stdout",
     "output_type": "stream",
     "text": [
      "The Average length of stay this week was  0 days 07:26:38.165680473\n"
     ]
    }
   ],
   "source": [
    "# Get the average length of stay\n",
    "\n",
    "ED['lenstay'] = ED['ED Depart DateTime']-ED['Arrived DateTime']\n",
    "print(\"The Average length of stay this week was \", ED['lenstay'].mean())"
   ]
  },
  {
   "cell_type": "code",
   "execution_count": 97,
   "id": "3ce63ad8",
   "metadata": {},
   "outputs": [
    {
     "name": "stdout",
     "output_type": "stream",
     "text": [
      "     Chart\n",
      "Day       \n",
      "Fri    113\n",
      "Mon    114\n",
      "Sat     67\n",
      "Sun     86\n",
      "Thu     92\n",
      "Tue    106\n",
      "Wed     99\n"
     ]
    }
   ],
   "source": [
    "# group data to find which day has the most attendances\n",
    "\n",
    "daygroup = ED[['Day', 'Chart']]\n",
    "daygroup = daygroup.groupby('Day').count()\n",
    "print(daygroup)"
   ]
  },
  {
   "cell_type": "code",
   "execution_count": 93,
   "id": "50b47513",
   "metadata": {},
   "outputs": [
    {
     "name": "stdout",
     "output_type": "stream",
     "text": [
      "144  presentations by ambulance\n",
      "This equates to 28.8 percent of all attendances\n"
     ]
    }
   ],
   "source": [
    "# For loop to get the number of presentataions by Ambulance\n",
    "\n",
    "count = 0\n",
    "for i in ED['Transport']:\n",
    "    if (i == 'Ambulance'):\n",
    "        count +=1\n",
    "print(count, ' presentations by ambulance')\n",
    "print('This equates to', count / len('Chart'), 'percent of all attendances')"
   ]
  },
  {
   "cell_type": "code",
   "execution_count": 98,
   "id": "cbbcc66e",
   "metadata": {},
   "outputs": [
    {
     "name": "stdout",
     "output_type": "stream",
     "text": [
      "The mean is 0 days 00:28:16.977777777\n",
      "The median is 0 days 00:24:00\n",
      "The min is 0 days 00:01:00\n",
      "The max is 0 days 03:12:00\n",
      "\n",
      "The mean is 0 days 03:01:28.778761061\n",
      "The median is 0 days 02:01:00\n",
      "The min is -1 days +17:32:00\n",
      "The max is 0 days 12:59:00\n",
      "\n",
      "The mean is 0 days 09:34:41.250000\n",
      "The median is 0 days 09:50:30\n",
      "The min is 0 days 02:46:00\n",
      "The max is 1 days 03:04:00\n",
      "\n",
      "The mean is 0 days 10:55:22.666666666\n",
      "The median is 0 days 10:36:30\n",
      "The min is 0 days 00:13:00\n",
      "The max is 0 days 23:58:00\n",
      "\n"
     ]
    }
   ],
   "source": [
    "#function to find the mean, median, min and max of wait times in the department\n",
    "\n",
    "arrtotri = ED['Triage DateTime'] - ED['Arrived DateTime']\n",
    "arrtosee = ED['Seen DateTime'] - ED['Arrived DateTime']\n",
    "arrtolod = ED['Lodged DateTime'] - ED['Arrived DateTime']\n",
    "arrtoadm = ED['Admitted Date Time'] - ED['Arrived DateTime']\n",
    "\n",
    "def dtimestats(value):\n",
    "    \"\"\" This function returns the mean, median\n",
    "        min, and max, of a variable\"\"\"\n",
    "        \n",
    "    print(\"The mean is \" + str(value.mean()))\n",
    "    print(\"The median is \" + str(value.median()))\n",
    "    print(\"The min is \" + str(value.min()))\n",
    "    print(\"The max is \" + str(value.max()))\n",
    "    print(\"\")        \n",
    "    \n",
    "  \n",
    "dtimestats(arrtotri)\n",
    "dtimestats(arrtosee)\n",
    "dtimestats(arrtolod)\n",
    "dtimestats(arrtoadm)"
   ]
  },
  {
   "cell_type": "code",
   "execution_count": 100,
   "id": "91d1d750",
   "metadata": {},
   "outputs": [
    {
     "data": {
      "image/png": "[encoded data removed]",
      "text/plain": [
       "<Figure size 432x288 with 1 Axes>"
      ]
     },
     "metadata": {},
     "output_type": "display_data"
    }
   ],
   "source": [
    "# View attendances to department by day.\n",
    "ED['Day'].value_counts()\n",
    "sns.set_style(\"whitegrid\")\n",
    "g = sns.countplot(x = 'Day', data = ED)\n",
    "plt.title(\"Presentations by Day\") \n",
    "plt.ylabel(\"Count of Presentations\")\n",
    "plt.xlabel(\"Day\")\n",
    "plt.show()"
   ]
  },
  {
   "cell_type": "code",
   "execution_count": 101,
   "id": "d60a3b96",
   "metadata": {},
   "outputs": [
    {
     "data": {
      "image/png": "[encoded data removed]",
      "text/plain": [
       "<Figure size 432x288 with 1 Axes>"
      ]
     },
     "metadata": {},
     "output_type": "display_data"
    }
   ],
   "source": [
    "#presentation by age\n",
    "age_dem = pd.cut(ED['Age'], bins = [0, 16, 30, 45 ,65, np.inf])\n",
    "Age_range = ['0 - 16' , ' 16 - 30', '30 - 45', '45 - 65', ' 65 +' ]\n",
    "ED.groupby(age_dem).count()\n",
    "sns.set_style(\"whitegrid\")\n",
    "g = sns.countplot( x = age_dem, data = ED)\n",
    "g.set_xticklabels(Age_range)\n",
    "plt.title(\"Presentations by Age Group\") \n",
    "plt.ylabel(\"Count of Presentations\")\n",
    "plt.xlabel(\"Age Group\")\n",
    "plt.show()"
   ]
  },
  {
   "cell_type": "code",
   "execution_count": 102,
   "id": "081fdd97",
   "metadata": {},
   "outputs": [
    {
     "data": {
      "image/png": "[encoded data removed]",
      "text/plain": [
       "<Figure size 432x288 with 1 Axes>"
      ]
     },
     "metadata": {},
     "output_type": "display_data"
    }
   ],
   "source": [
    "ED['Outcome'].value_counts()\n",
    "Admitted = ED[ED['Outcome'].isin(['Admit to Ward'])]\n",
    "#print(admitted)\n",
    "sns.set_style(\"whitegrid\")\n",
    "g = sns.countplot(x = 'Day', data = Admitted)\n",
    "plt.title(\"Admission by Day\") \n",
    "plt.ylabel(\"Count of Admissions\")\n",
    "plt.xlabel(\"Day\")\n",
    "plt.show()"
   ]
  },
  {
   "cell_type": "code",
   "execution_count": 103,
   "id": "6ab13007",
   "metadata": {},
   "outputs": [
    {
     "data": {
      "image/png": "[encoded data removed]",
      "text/plain": [
       "<Figure size 432x288 with 1 Axes>"
      ]
     },
     "metadata": {},
     "output_type": "display_data"
    }
   ],
   "source": [
    "age_dem = pd.cut(Admitted['Age'], bins = [0, 16, 30, 45 ,65, np.inf])\n",
    "Age_range = ['0 - 16' , ' 16 - 30', '30 - 45', '45 - 65', ' 65 +' ]\n",
    "Admitted.groupby(age_dem).count()\n",
    "sns.set_style(\"whitegrid\")\n",
    "g = sns.countplot( x = age_dem, data = Admitted)\n",
    "g.set_xticklabels(Age_range)\n",
    "plt.title(\"Admission by Age Group\") \n",
    "plt.ylabel(\"Count of Admissions\")\n",
    "plt.xlabel(\"Age Group\")\n",
    "plt.show()"
   ]
  },
  {
   "cell_type": "code",
   "execution_count": 104,
   "id": "96e11bf7",
   "metadata": {},
   "outputs": [
    {
     "name": "stdout",
     "output_type": "stream",
     "text": [
      "AxesSubplot(0.125,0.125;0.775x0.755)\n"
     ]
    },
    {
     "data": {
      "image/png": "[encoded data removed]",
      "text/plain": [
       "<Figure size 432x288 with 1 Axes>"
      ]
     },
     "metadata": {},
     "output_type": "display_data"
    }
   ],
   "source": [
    "#10 presenting complaints\n",
    "top10presentcomplaints = ED['PresentedWith'].value_counts()[:10].plot(kind='barh', colormap = 'winter', title = 'Top 10 Presenting Complaints')\n",
    "print(top10presentcomplaints)"
   ]
  },
  {
   "cell_type": "code",
   "execution_count": null,
   "id": "4ce70dbb",
   "metadata": {},
   "outputs": [],
   "source": []
  }
 ],
 "metadata": {
  "kernelspec": {
   "display_name": "Python 3",
   "language": "python",
   "name": "python3"
  },
  "language_info": {
   "codemirror_mode": {
    "name": "ipython",
    "version": 3
   },
   "file_extension": ".py",
   "mimetype": "text/x-python",
   "name": "python",
   "nbconvert_exporter": "python",
   "pygments_lexer": "ipython3",
   "version": "3.8.8"
  }
 },
 "nbformat": 4,
 "nbformat_minor": 5
}
